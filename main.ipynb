{
  "nbformat": 4,
  "nbformat_minor": 0,
  "metadata": {
    "colab": {
      "name": "main.ipynb",
      "provenance": []
    },
    "kernelspec": {
      "name": "python3",
      "display_name": "Python 3"
    }
  },
  "cells": [
    {
      "cell_type": "code",
      "metadata": {
        "id": "1VCQfn7v4Yuq"
      },
      "source": [
        "import numpy as np"
      ],
      "execution_count": 9,
      "outputs": []
    },
    {
      "cell_type": "code",
      "metadata": {
        "id": "FGj1NblX4gIB"
      },
      "source": [
        "grid = [[6, 0, 5, 0, 0, 0, 7, 0, 9],\r\n",
        "        [7, 3, 4, 5, 9, 8, 0, 0, 2],\r\n",
        "        [2, 0, 0, 7, 6, 4, 3, 0, 0],\r\n",
        "        [1, 0, 0, 0, 8, 3, 0, 0, 4],\r\n",
        "        [0, 4, 0, 0, 1, 0, 8, 6, 0],\r\n",
        "        [5, 0, 8, 4, 0, 0, 0, 0, 3],\r\n",
        "        [0, 0, 1, 0, 4, 0, 2, 0, 0],\r\n",
        "        [9, 0, 6, 8, 0, 1, 4, 3, 0],\r\n",
        "        [0, 0, 0, 2, 0, 0, 0, 0, 0]]"
      ],
      "execution_count": 11,
      "outputs": []
    },
    {
      "cell_type": "code",
      "metadata": {
        "id": "QMrOsw64_7zp"
      },
      "source": [
        "def possible(x, y, n):\r\n",
        "    \"\"\"To check whether n can be inserted at position (x, y).\"\"\"\r\n",
        "    for i in range(9):\r\n",
        "        if grid[x][i] == n:\r\n",
        "            return False\r\n",
        "    for i in range(9):\r\n",
        "        if grid[i][y] == n:\r\n",
        "            return False\r\n",
        "    for i in range(int(x/3) * 3, int(x/3) * 3 + 3):\r\n",
        "        for j in range(int(y/3) * 3, int(y/3) * 3 + 3):\r\n",
        "            if grid[i][j] == n:\r\n",
        "                return False\r\n",
        "    return True"
      ],
      "execution_count": 10,
      "outputs": []
    },
    {
      "cell_type": "code",
      "metadata": {
        "id": "M8QoEW8yDSVr"
      },
      "source": [
        "def solve():\r\n",
        "    for i in range (9):\r\n",
        "        for j in range (9):\r\n",
        "            if grid[i][j] == 0:\r\n",
        "                for k in range (1, 10):\r\n",
        "                      if possible(i, j, k):\r\n",
        "                          grid[i][j] = k\r\n",
        "                          solve()\r\n",
        "                          grid[i][j] = 0\r\n",
        "                return\r\n",
        "    print(np.matrix(grid))"
      ],
      "execution_count": 12,
      "outputs": []
    },
    {
      "cell_type": "code",
      "metadata": {
        "colab": {
          "base_uri": "https://localhost:8080/"
        },
        "id": "UwWu965dOpjF",
        "outputId": "88638c30-a370-424f-ba12-a98feeb68393"
      },
      "source": [
        "solve()"
      ],
      "execution_count": 13,
      "outputs": [
        {
          "output_type": "stream",
          "text": [
            "[[6 8 5 1 3 2 7 4 9]\n",
            " [7 3 4 5 9 8 6 1 2]\n",
            " [2 1 9 7 6 4 3 5 8]\n",
            " [1 9 7 6 8 3 5 2 4]\n",
            " [3 4 2 9 1 5 8 6 7]\n",
            " [5 6 8 4 2 7 1 9 3]\n",
            " [8 5 1 3 4 9 2 7 6]\n",
            " [9 2 6 8 7 1 4 3 5]\n",
            " [4 7 3 2 5 6 9 8 1]]\n"
          ],
          "name": "stdout"
        }
      ]
    }
  ]
}